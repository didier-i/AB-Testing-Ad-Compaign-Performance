{
 "cells": [
  {
   "cell_type": "markdown",
   "metadata": {},
   "source": [
    "### Importing libraries and packages"
   ]
  },
  {
   "cell_type": "code",
   "execution_count": 219,
   "metadata": {},
   "outputs": [],
   "source": [
    "# Import libraries for our task\n",
    "from sklearn.ensemble import RandomForestClassifier, RandomForestRegressor\n",
    "from sklearn.metrics import accuracy_score, confusion_matrix\n",
    "from sklearn.naive_bayes import BernoulliNB, GaussianNB\n",
    "from sklearn.model_selection import train_test_split\n",
    "from sklearn.linear_model import LogisticRegression\n",
    "from sklearn.neighbors import KNeighborsClassifier\n",
    "from sklearn.preprocessing import StandardScaler\n",
    "from sklearn.tree import DecisionTreeClassifier\n",
    "from sklearn.preprocessing import LabelEncoder\n",
    "from sklearn.decomposition import PCA\n",
    "from sklearn.pipeline import Pipeline\n",
    "from xgboost import XGBClassifier\n",
    "from sklearn import metrics \n",
    "\n",
    "import matplotlib.pyplot as plt\n",
    "import numpy as np\n",
    "import pandas as pd\n",
    "import seaborn as sns \n",
    "import itertools\n",
    "import mlflow\n",
    "import pickle\n"
   ]
  },
  {
   "cell_type": "code",
   "execution_count": 220,
   "metadata": {},
   "outputs": [],
   "source": [
    "# Import system libraries and our Scripts\n",
    "\n",
    "import os\n",
    "import sys\n",
    "import warnings\n",
    "warnings.filterwarnings('ignore')\n",
    "sys.path.append(os.path.abspath(os.path.join('../script')))"
   ]
  },
  {
   "cell_type": "code",
   "execution_count": 221,
   "metadata": {},
   "outputs": [],
   "source": [
    "# Read AdSmart_AB_testing_data \n",
    "\n",
    "clean_df  = pd.read_csv('../data/clean_data.csv')"
   ]
  },
  {
   "cell_type": "code",
   "execution_count": 222,
   "metadata": {},
   "outputs": [
    {
     "name": "stdout",
     "output_type": "stream",
     "text": [
      "<class 'pandas.core.frame.DataFrame'>\n",
      "RangeIndex: 1243 entries, 0 to 1242\n",
      "Data columns (total 9 columns):\n",
      " #   Column       Non-Null Count  Dtype \n",
      "---  ------       --------------  ----- \n",
      " 0   Unnamed: 0   1243 non-null   int64 \n",
      " 1   auction_id   1243 non-null   object\n",
      " 2   experiment   1243 non-null   object\n",
      " 3   date         1243 non-null   object\n",
      " 4   hour         1243 non-null   int64 \n",
      " 5   device_make  1243 non-null   object\n",
      " 6   platform_os  1243 non-null   int64 \n",
      " 7   browser      1243 non-null   object\n",
      " 8   aware        1243 non-null   int64 \n",
      "dtypes: int64(4), object(5)\n",
      "memory usage: 87.5+ KB\n"
     ]
    }
   ],
   "source": [
    "# The types and shape of data features in the dataset\n",
    "\n",
    "clean_df.info()"
   ]
  },
  {
   "cell_type": "code",
   "execution_count": 223,
   "metadata": {},
   "outputs": [],
   "source": [
    "# change categorical variables to numerical value\n",
    "lb = LabelEncoder()\n",
    "clean_df['experiment'] = lb.fit_transform(clean_df['experiment'])\n",
    "clean_df['browser'] = lb.fit_transform(clean_df['browser'])\n",
    "clean_df['device_make'] = lb.fit_transform(clean_df['device_make'])\n",
    "clean_df['date'] = lb.fit_transform(clean_df['date'])\n",
    "clean_df['aware'] = lb.fit_transform(clean_df['aware'])\n"
   ]
  },
  {
   "cell_type": "markdown",
   "metadata": {},
   "source": [
    "Model training "
   ]
  },
  {
   "cell_type": "code",
   "execution_count": 224,
   "metadata": {},
   "outputs": [],
   "source": [
    "# feature_cols = [\"experiment\", \"hour\", \"date\", 'device_make', \"platform_os\",  \"browser\"]\n",
    "feature_cols = [\"experiment\", \"hour\", \"date\", 'device_make', 'browser']\n",
    "\n",
    "X = clean_df[feature_cols]\n",
    "y = clean_df[['aware']]\n",
    "\n",
    "test_size = 0.1\n",
    "\n",
    "X_train, X_test, y_train, y_test = train_test_split(X, y, test_size=test_size, random_state=42)"
   ]
  },
  {
   "cell_type": "code",
   "execution_count": 225,
   "metadata": {},
   "outputs": [
    {
     "name": "stderr",
     "output_type": "stream",
     "text": [
      "2022/05/21 15:33:43 WARNING mlflow.utils.autologging_utils: Encountered unexpected error during sklearn autologging: Invalid parent directory 'C:\\Users\\Sebli\\Desktop\\10x Files\\Endework\\SmartAd-Performance-Analysis\\notebooks\\mlruns\\.trash'\n"
     ]
    },
    {
     "name": "stdout",
     "output_type": "stream",
     "text": [
      "Predicted: [1 1 0 0 1 0 1 1 0 0]\n",
      "Actual:       aware\n",
      "900       1\n",
      "1003      0\n",
      "671       0\n",
      "620       0\n",
      "926       1\n",
      "997       0\n",
      "745       1\n",
      "938       1\n",
      "451       0\n",
      "439       1\n"
     ]
    }
   ],
   "source": [
    "# Define Random Forest Model\n",
    "rf = RandomForestClassifier(n_estimators=100)\n",
    "\n",
    "# We fit our model with our train data\n",
    "rf.fit(X_train, y_train)\n",
    "\n",
    "# Then predict results from X_test data\n",
    "pred_rf = rf.predict(X_test)\n",
    "\n",
    "# See First 10 Predictions and They Actual Values\n",
    "print(\"Predicted:\", pred_rf[0:10])\n",
    "print(\"Actual:\", y_test[0:10])"
   ]
  },
  {
   "cell_type": "code",
   "execution_count": 226,
   "metadata": {},
   "outputs": [
    {
     "name": "stderr",
     "output_type": "stream",
     "text": [
      "2022/05/21 15:33:44 WARNING mlflow.utils.autologging_utils: Encountered unexpected error during sklearn autologging: Invalid parent directory 'C:\\Users\\Sebli\\Desktop\\10x Files\\Endework\\SmartAd-Performance-Analysis\\notebooks\\mlruns\\.trash'\n"
     ]
    },
    {
     "name": "stdout",
     "output_type": "stream",
     "text": [
      "Predicted: [1 0 0 0 1 0 1 1 1 0]\n",
      "Actual:       aware\n",
      "900       1\n",
      "1003      0\n",
      "671       0\n",
      "620       0\n",
      "926       1\n",
      "997       0\n",
      "745       1\n",
      "938       1\n",
      "451       0\n",
      "439       1\n"
     ]
    }
   ],
   "source": [
    "# Define Decision Tree Model\n",
    "dt = DecisionTreeClassifier()\n",
    "# We fit our model with our train data\n",
    "dt.fit(X_train, y_train)\n",
    "# Then predict results from X_test data\n",
    "pred_dt = dt.predict(X_test)\n",
    "\n",
    "# See First 10 Predictions and They Actual Values\n",
    "print(\"Predicted:\", pred_dt[0:10])\n",
    "print(\"Actual:\", y_test[0:10])"
   ]
  },
  {
   "cell_type": "code",
   "execution_count": 227,
   "metadata": {},
   "outputs": [
    {
     "name": "stderr",
     "output_type": "stream",
     "text": [
      "2022/05/21 15:33:44 WARNING mlflow.utils.autologging_utils: Encountered unexpected error during sklearn autologging: Invalid parent directory 'C:\\Users\\Sebli\\Desktop\\10x Files\\Endework\\SmartAd-Performance-Analysis\\notebooks\\mlruns\\.trash'\n"
     ]
    },
    {
     "name": "stdout",
     "output_type": "stream",
     "text": [
      "Predicted: [0 1 0 0 1 0 1 0 0 0]\n",
      "Actual:       aware\n",
      "900       1\n",
      "1003      0\n",
      "671       0\n",
      "620       0\n",
      "926       1\n",
      "997       0\n",
      "745       1\n",
      "938       1\n",
      "451       0\n",
      "439       1\n"
     ]
    }
   ],
   "source": [
    "# Define Logistic Regression Model\n",
    "log = LogisticRegression()\n",
    "# We fit our model with our train data\n",
    "log.fit(X_train, y_train)\n",
    "# Then predict results from X_test data\n",
    "pred_log = log.predict(X_test)\n",
    "\n",
    "# See First 10 Predictions and They Actual Values\n",
    "print(\"Predicted:\", pred_log[0:10])\n",
    "print(\"Actual:\", y_test[0:10])"
   ]
  },
  {
   "cell_type": "code",
   "execution_count": 228,
   "metadata": {},
   "outputs": [
    {
     "name": "stderr",
     "output_type": "stream",
     "text": [
      "2022/05/21 15:33:44 WARNING mlflow.utils.autologging_utils: Encountered unexpected error during sklearn autologging: Invalid parent directory 'C:\\Users\\Sebli\\Desktop\\10x Files\\Endework\\SmartAd-Performance-Analysis\\notebooks\\mlruns\\.trash'\n"
     ]
    },
    {
     "name": "stdout",
     "output_type": "stream",
     "text": [
      "Predicted: [0 0 0 0 0 0 0 0 0 0]\n",
      "Actual:       aware\n",
      "900       1\n",
      "1003      0\n",
      "671       0\n",
      "620       0\n",
      "926       1\n",
      "997       0\n",
      "745       1\n",
      "938       1\n",
      "451       0\n",
      "439       1\n"
     ]
    }
   ],
   "source": [
    "# Define Bernouilli Naive Bias Model\n",
    "bnb = BernoulliNB()\n",
    "# We fit our model with our train data\n",
    "bnb.fit(X_train, y_train)\n",
    "# Then predict results from X_test data\n",
    "pred_bnb = bnb.predict(X_test)\n",
    "\n",
    "# See First 10 Predictions and They Actual Values\n",
    "print(\"Predicted:\", pred_bnb[0:10])\n",
    "print(\"Actual:\", y_test[0:10])"
   ]
  },
  {
   "cell_type": "code",
   "execution_count": 229,
   "metadata": {},
   "outputs": [
    {
     "name": "stderr",
     "output_type": "stream",
     "text": [
      "2022/05/21 15:33:44 WARNING mlflow.utils.autologging_utils: Encountered unexpected error during sklearn autologging: Invalid parent directory 'C:\\Users\\Sebli\\Desktop\\10x Files\\Endework\\SmartAd-Performance-Analysis\\notebooks\\mlruns\\.trash'\n"
     ]
    },
    {
     "name": "stdout",
     "output_type": "stream",
     "text": [
      "Predicted: [0 1 0 0 1 0 1 1 0 0]\n",
      "Actual:       aware\n",
      "900       1\n",
      "1003      0\n",
      "671       0\n",
      "620       0\n",
      "926       1\n",
      "997       0\n",
      "745       1\n",
      "938       1\n",
      "451       0\n",
      "439       1\n"
     ]
    }
   ],
   "source": [
    "# Define Gaussian Naive Bias Model\n",
    "gnb = GaussianNB()\n",
    "# We fit our model with our train data\n",
    "gnb.fit(X_train, y_train)\n",
    "# Then predict results from X_test data\n",
    "pred_gnb = gnb.predict(X_test)\n",
    "\n",
    "# See First 10 Predictions and They Actual Values\n",
    "print(\"Predicted:\", pred_gnb[0:10])\n",
    "print(\"Actual:\", y_test[0:10])"
   ]
  },
  {
   "cell_type": "code",
   "execution_count": 230,
   "metadata": {},
   "outputs": [
    {
     "name": "stderr",
     "output_type": "stream",
     "text": [
      "2022/05/21 15:33:44 WARNING mlflow.utils.autologging_utils: Encountered unexpected error during sklearn autologging: Invalid parent directory 'C:\\Users\\Sebli\\Desktop\\10x Files\\Endework\\SmartAd-Performance-Analysis\\notebooks\\mlruns\\.trash'\n"
     ]
    },
    {
     "name": "stdout",
     "output_type": "stream",
     "text": [
      "Predicted: [1 0 0 0 1 0 1 0 1 0]\n",
      "Actual:       aware\n",
      "900       1\n",
      "1003      0\n",
      "671       0\n",
      "620       0\n",
      "926       1\n",
      "997       0\n",
      "745       1\n",
      "938       1\n",
      "451       0\n",
      "439       1\n"
     ]
    }
   ],
   "source": [
    "# Define KNN Model\n",
    "knn = KNeighborsClassifier(n_neighbors=3, metric=\"minkowski\")\n",
    "# We fit our model with our train data\n",
    "knn.fit(X_train, y_train)\n",
    "# Then predict results from X_test data\n",
    "pred_knn = knn.predict(X_test)\n",
    "\n",
    "# See First 10 Predictions and They Actual Values\n",
    "print(\"Predicted:\", pred_knn[0:10])\n",
    "print(\"Actual:\", y_test[0:10])"
   ]
  },
  {
   "cell_type": "code",
   "execution_count": 231,
   "metadata": {},
   "outputs": [
    {
     "name": "stderr",
     "output_type": "stream",
     "text": [
      "2022/05/21 15:33:44 WARNING mlflow.utils.autologging_utils: Encountered unexpected error during xgboost autologging: Invalid parent directory 'C:\\Users\\Sebli\\Desktop\\10x Files\\Endework\\SmartAd-Performance-Analysis\\notebooks\\mlruns\\.trash'\n"
     ]
    },
    {
     "name": "stdout",
     "output_type": "stream",
     "text": [
      "Actual:       aware\n",
      "900       1\n",
      "1003      0\n",
      "671       0\n",
      "620       0\n",
      "926       1\n",
      "997       0\n",
      "745       1\n",
      "938       1\n",
      "451       0\n",
      "439       1\n"
     ]
    }
   ],
   "source": [
    "# Define XGBoost Model\n",
    "xgb = XGBClassifier(n_estimators=1000, learning_rate=0.05)\n",
    "# We fit our model with our train data\n",
    "xgb.fit(\n",
    "    X_train, y_train,\n",
    "    # That means if model don't improve it self in 5 rounds, it will stop learning\n",
    "    # So you can save your time and don't overtrain your model.\n",
    "    early_stopping_rounds=5,\n",
    "    # We provide Test data's to evaluate model performance\n",
    "    eval_set=[(X_test, y_test)],\n",
    "    verbose=False\n",
    " )\n",
    "# Then predict results from X_test data\n",
    "pred_xgb = xgb.predict(X_test)\n",
    "\n",
    "# See First 10 Predictions and They Actual Values\n",
    "# print(\"Predicted:\", pred_xgb[0:10])\n",
    "print(\"Actual:\", y_test[0:10])"
   ]
  },
  {
   "cell_type": "code",
   "execution_count": 232,
   "metadata": {},
   "outputs": [
    {
     "name": "stdout",
     "output_type": "stream",
     "text": [
      "***********************\n",
      "Confusion Matrixes\n",
      "***********************\n",
      "Random Forest:\n",
      " [[44 21]\n",
      " [33 27]]\n",
      "Desicion Tree:\n",
      " [[42 23]\n",
      " [35 25]]\n",
      "Logistic Regression:\n",
      " [[58  7]\n",
      " [47 13]]\n",
      "Bernouilli Naive Bias:\n",
      " [[65  0]\n",
      " [60  0]]\n",
      "Gaussian Naive Bias:\n",
      " [[57  8]\n",
      " [48 12]]\n",
      "KNN (K-Nearest Neighbors):\n",
      " [[44 21]\n",
      " [39 21]]\n",
      "XGBoost:\n",
      " [[51 14]\n",
      " [41 19]]\n"
     ]
    }
   ],
   "source": [
    "# Confusion Matrixes\n",
    "# First parameter is actual value\n",
    "# second parameter is value that we prediceted\n",
    "# Random Forest \n",
    "cm_rf = confusion_matrix(y_test, pred_rf)\n",
    "# Desicion Tree\n",
    "cm_dt = confusion_matrix(y_test, pred_dt)\n",
    "# Logistic Regression\n",
    "cm_log = confusion_matrix(y_test, pred_log)\n",
    "# Bernouilli Naive Bias\n",
    "cm_bnb = confusion_matrix(y_test, pred_bnb)\n",
    "# Gaussian Naive Bias\n",
    "cm_gnb = confusion_matrix(y_test, pred_gnb)\n",
    "# KNN (K-Nearest Neighbors)\n",
    "cm_knn = confusion_matrix(y_test, pred_knn)\n",
    "# XGBoost \n",
    "cm_xgb = confusion_matrix(y_test, pred_xgb)\n",
    "\n",
    "print(\"***********************\")\n",
    "print(\"Confusion Matrixes\")\n",
    "print(\"***********************\")\n",
    "print(\"Random Forest:\\n\", cm_rf)\n",
    "print(\"Desicion Tree:\\n\", cm_dt)\n",
    "print(\"Logistic Regression:\\n\", cm_log)\n",
    "print(\"Bernouilli Naive Bias:\\n\", cm_bnb)\n",
    "print(\"Gaussian Naive Bias:\\n\", cm_gnb)\n",
    "print(\"KNN (K-Nearest Neighbors):\\n\", cm_knn)\n",
    "print(\"XGBoost:\\n\", cm_xgb)"
   ]
  },
  {
   "cell_type": "code",
   "execution_count": 233,
   "metadata": {},
   "outputs": [
    {
     "name": "stdout",
     "output_type": "stream",
     "text": [
      "***********************\n",
      "Accuracy Scores\n",
      "***********************\n",
      "Random Forest: 0.568\n",
      "Desicion Tree: 0.536\n",
      "Logistic Regression: 0.568\n",
      "Bernouilli Naive Bias: 0.52\n",
      "Gaussian Naive Bias: 0.552\n",
      "KNN (K-Nearest Neighbors): 0.52\n",
      "XGBoost: 0.56\n"
     ]
    }
   ],
   "source": [
    "# Accuracy Scores\n",
    "# First parameter is actual value\n",
    "# second parameter is value that we prediceted\n",
    "\n",
    "# Random Forest \n",
    "acc_rf = accuracy_score(y_test, pred_rf)\n",
    "# Desicion Tree\n",
    "acc_dt = accuracy_score(y_test, pred_dt)\n",
    "# Logistic Regression\n",
    "acc_log = accuracy_score(y_test, pred_log)\n",
    "# Bernouilli Naive Bias\n",
    "acc_bnb = accuracy_score(y_test, pred_bnb)\n",
    "# Gaussian Naive Bias\n",
    "acc_gnb = accuracy_score(y_test, pred_gnb)\n",
    "# KNN (K-Nearest Neighbors)\n",
    "acc_knn = accuracy_score(y_test, pred_knn)\n",
    "# XGBoost \n",
    "acc_xgb = accuracy_score(y_test, pred_xgb)\n",
    "\n",
    "print(\"***********************\")\n",
    "print(\"Accuracy Scores\")\n",
    "print(\"***********************\")\n",
    "print(\"Random Forest:\", acc_rf)\n",
    "print(\"Desicion Tree:\", acc_dt)\n",
    "print(\"Logistic Regression:\", acc_log)\n",
    "print(\"Bernouilli Naive Bias:\", acc_bnb)\n",
    "print(\"Gaussian Naive Bias:\", acc_gnb)\n",
    "print(\"KNN (K-Nearest Neighbors):\", acc_knn)\n",
    "print(\"XGBoost:\", acc_xgb)"
   ]
  },
  {
   "cell_type": "markdown",
   "metadata": {},
   "source": [
    "### SKlearn pipeline"
   ]
  },
  {
   "cell_type": "code",
   "execution_count": 234,
   "metadata": {},
   "outputs": [],
   "source": [
    "def plot_confusion_matrix(cm, classes,\n",
    "                          normalize=False,\n",
    "                          title='Confusion matrix',\n",
    "                          cmap=plt.cm.Blues):\n",
    "    \n",
    "    plt.imshow(cm, interpolation='nearest', cmap=cmap)\n",
    "    plt.title(title)\n",
    "    plt.colorbar()\n",
    "    tick_marks = np.arange(len(classes))\n",
    "    plt.xticks(tick_marks, classes, rotation=45)\n",
    "    plt.yticks(tick_marks, classes)\n",
    "    if normalize:\n",
    "\n",
    "        cm = cm.astype('float') / cm.sum(axis=1)[:, np.newaxis]\n",
    "    else:\n",
    "        print('Confusion matrix, without normalization')\n",
    "    thresh = cm.max() / 2.\n",
    "    for i, j in itertools.product(range(cm.shape[0]), range(cm.shape[1])):\n",
    "         plt.text(j, i, cm[i, j],horizontalalignment=\"center\",color=\"white\" if cm[i, j] > thresh else \"black\")\n",
    "         plt.tight_layout()\n",
    "         plt.ylabel('True label')\n",
    "         plt.xlabel('Predicted label')"
   ]
  },
  {
   "cell_type": "code",
   "execution_count": 235,
   "metadata": {},
   "outputs": [],
   "source": [
    "pipelin=Pipeline([('scalar1',StandardScaler()),\n",
    "                     ('pca1',PCA(n_components=2)),\n",
    "                     ('lr_classifier',LogisticRegression(random_state=0))])"
   ]
  },
  {
   "cell_type": "code",
   "execution_count": 236,
   "metadata": {},
   "outputs": [],
   "source": [
    "pipedes=Pipeline([('scalar2',StandardScaler()),\n",
    "                     ('pca2',PCA(n_components=2)),\n",
    "                     ('dt_classifier',DecisionTreeClassifier())])"
   ]
  },
  {
   "cell_type": "code",
   "execution_count": 237,
   "metadata": {},
   "outputs": [],
   "source": [
    "piperan=Pipeline([('scalar3',StandardScaler()),\n",
    "                     ('pca3',PCA(n_components=2)),\n",
    "                     ('rf_classifier',RandomForestClassifier())])"
   ]
  },
  {
   "cell_type": "code",
   "execution_count": 238,
   "metadata": {},
   "outputs": [],
   "source": [
    "pipeber=Pipeline([('scalar3',StandardScaler()),\n",
    "                     ('pca3',PCA(n_components=2)),\n",
    "                     ('rf_classifier',BernoulliNB())])"
   ]
  },
  {
   "cell_type": "code",
   "execution_count": 239,
   "metadata": {},
   "outputs": [],
   "source": [
    "pipexgb=Pipeline([('scalar3',StandardScaler()),\n",
    "                     ('pca3',PCA(n_components=2)),\n",
    "                     ('rf_classifier',XGBClassifier())])"
   ]
  },
  {
   "cell_type": "code",
   "execution_count": 240,
   "metadata": {},
   "outputs": [],
   "source": [
    "pipekn=Pipeline([('scalar3',StandardScaler()),\n",
    "                     ('pca3',PCA(n_components=2)),\n",
    "                     ('rf_classifier',KNeighborsClassifier())])"
   ]
  },
  {
   "cell_type": "code",
   "execution_count": 241,
   "metadata": {},
   "outputs": [],
   "source": [
    "pipexg=Pipeline([('scalar3',StandardScaler()),\n",
    "                     ('pca3',PCA(n_components=2)),\n",
    "                     ('rf_classifier',XGBClassifier())])"
   ]
  },
  {
   "cell_type": "code",
   "execution_count": 242,
   "metadata": {},
   "outputs": [],
   "source": [
    "## LEts make the list of pipelines\n",
    "pipelines = [pipelin, pipedes, piperan,pipeber,pipexgb,pipekn,pipexg]"
   ]
  },
  {
   "cell_type": "code",
   "execution_count": null,
   "metadata": {},
   "outputs": [],
   "source": [
    "# Dictionary of pipelines and classifier types for ease of reference\n",
    "pipe_dict = {\n",
    "\t\t\t\t0: 'Logistic Regression', \n",
    "\t\t\t\t1: 'Decision Tree', \n",
    "\t\t\t\t2: 'RandomForest',\n",
    "\t\t\t\t3:'Bernouilli Naive Bias',\n",
    "\t\t\t\t4:'Gaussian Naive Bias',\n",
    "\t\t\t\t5:'KNN',\n",
    "\t\t\t\t6:'XGBoost'\n",
    "\t\t\t}\n",
    "\n",
    "# Fit the pipelines\n",
    "for pipe in pipelines:\n",
    "\tpipe.fit(X_train, y_train)"
   ]
  },
  {
   "cell_type": "code",
   "execution_count": 244,
   "metadata": {},
   "outputs": [
    {
     "name": "stdout",
     "output_type": "stream",
     "text": [
      "Logistic Regression Test Accuracy: 0.52\n",
      "Decision Tree Test Accuracy: 0.536\n",
      "RandomForest Test Accuracy: 0.512\n",
      "Bernouilli Naive Bias Test Accuracy: 0.52\n",
      "Gaussian Naive Bias Test Accuracy: 0.544\n",
      "KNN Test Accuracy: 0.568\n",
      "XGBoost Test Accuracy: 0.544\n"
     ]
    }
   ],
   "source": [
    "for i,model in enumerate(pipelines):\n",
    "    print(\"{} Test Accuracy: {}\".format(pipe_dict[i],model.score(X_test,y_test)))"
   ]
  },
  {
   "cell_type": "code",
   "execution_count": 245,
   "metadata": {},
   "outputs": [],
   "source": [
    "best_accuracy=0.0\n",
    "best_classifier=0\n",
    "best_pipeline=\"\""
   ]
  },
  {
   "cell_type": "code",
   "execution_count": 246,
   "metadata": {},
   "outputs": [
    {
     "name": "stdout",
     "output_type": "stream",
     "text": [
      "Classifier with best accuracy:KNN\n"
     ]
    }
   ],
   "source": [
    "for i,model in enumerate(pipelines):\n",
    "    if model.score(X_test,y_test)>best_accuracy:\n",
    "        best_accuracy=model.score(X_test,y_test)\n",
    "        best_pipeline=model\n",
    "        best_classifier=i\n",
    "    \n",
    "print('Classifier with best accuracy:{}'.format(pipe_dict[best_classifier]))"
   ]
  },
  {
   "cell_type": "code",
   "execution_count": 247,
   "metadata": {},
   "outputs": [
    {
     "name": "stderr",
     "output_type": "stream",
     "text": [
      "2022/05/21 15:33:46 WARNING mlflow.utils.autologging_utils: Encountered unexpected error during sklearn autologging: Invalid parent directory 'C:\\Users\\Sebli\\Desktop\\10x Files\\Endework\\SmartAd-Performance-Analysis\\notebooks\\mlruns\\.trash'\n"
     ]
    }
   ],
   "source": [
    "model=RandomForestClassifier()\n",
    "model.fit(X_train, y_train)\n",
    "filename = 'finalized_model.sav'\n",
    "pickle.dump(model, open(filename, 'wb'))"
   ]
  },
  {
   "cell_type": "code",
   "execution_count": 248,
   "metadata": {},
   "outputs": [
    {
     "name": "stdout",
     "output_type": "stream",
     "text": [
      "0.568\n"
     ]
    }
   ],
   "source": [
    "loaded_model = pickle.load(open(filename, 'rb'))\n",
    "result = loaded_model.score(X_test, y_test)\n",
    "print(result)"
   ]
  },
  {
   "cell_type": "code",
   "execution_count": 249,
   "metadata": {},
   "outputs": [
    {
     "name": "stderr",
     "output_type": "stream",
     "text": [
      "2022/05/21 15:33:46 WARNING mlflow.utils.autologging_utils: Encountered unexpected error during sklearn autologging: Invalid parent directory 'C:\\Users\\Sebli\\Desktop\\10x Files\\Endework\\SmartAd-Performance-Analysis\\notebooks\\mlruns\\.trash'\n"
     ]
    },
    {
     "name": "stdout",
     "output_type": "stream",
     "text": [
      "accuracy: 56.8%\n",
      "Confusion matrix, without normalization\n"
     ]
    },
    {
     "data": {
      "image/png": "[encoded data removed]",
      "text/plain": [
       "<Figure size 432x288 with 2 Axes>"
      ]
     },
     "metadata": {
      "needs_background": "light"
     },
     "output_type": "display_data"
    }
   ],
   "source": [
    "pipe = Pipeline([('model', LogisticRegression(random_state=0))])\n",
    "model = pipe.fit(X_train, y_train)\n",
    "prediction = model.predict(X_test)\n",
    "print(\"accuracy: {}%\".format(round(accuracy_score(y_test, prediction)*100,2)))\n",
    "cm = metrics.confusion_matrix(y_test, prediction)\n",
    "plot_confusion_matrix(cm, classes=['Fake', 'Real'])"
   ]
  },
  {
   "cell_type": "code",
   "execution_count": 250,
   "metadata": {},
   "outputs": [
    {
     "name": "stderr",
     "output_type": "stream",
     "text": [
      "2022/05/21 15:33:47 WARNING mlflow.utils.autologging_utils: Encountered unexpected error during sklearn autologging: Invalid parent directory 'C:\\Users\\Sebli\\Desktop\\10x Files\\Endework\\SmartAd-Performance-Analysis\\notebooks\\mlruns\\.trash'\n"
     ]
    },
    {
     "name": "stdout",
     "output_type": "stream",
     "text": [
      "accuracy: 53.6%\n",
      "Confusion matrix, without normalization\n"
     ]
    },
    {
     "data": {
      "image/png": "[encoded data removed]",
      "text/plain": [
       "<Figure size 432x288 with 2 Axes>"
      ]
     },
     "metadata": {
      "needs_background": "light"
     },
     "output_type": "display_data"
    }
   ],
   "source": [
    "pipe = Pipeline([('model', RandomForestClassifier())])\n",
    "model = pipe.fit(X_train, y_train)\n",
    "prediction = model.predict(X_test)\n",
    "print(\"accuracy: {}%\".format(round(accuracy_score(y_test, prediction)*100,2)))\n",
    "cm = metrics.confusion_matrix(y_test, prediction)\n",
    "plot_confusion_matrix(cm, classes=['Fake', 'Real'])"
   ]
  },
  {
   "cell_type": "code",
   "execution_count": 251,
   "metadata": {},
   "outputs": [
    {
     "name": "stderr",
     "output_type": "stream",
     "text": [
      "2022/05/21 15:33:47 WARNING mlflow.utils.autologging_utils: Encountered unexpected error during sklearn autologging: Invalid parent directory 'C:\\Users\\Sebli\\Desktop\\10x Files\\Endework\\SmartAd-Performance-Analysis\\notebooks\\mlruns\\.trash'\n"
     ]
    },
    {
     "name": "stdout",
     "output_type": "stream",
     "text": [
      "accuracy: 53.6%\n",
      "Confusion matrix, without normalization\n"
     ]
    },
    {
     "data": {
      "image/png": "[encoded data removed]",
      "text/plain": [
       "<Figure size 432x288 with 2 Axes>"
      ]
     },
     "metadata": {
      "needs_background": "light"
     },
     "output_type": "display_data"
    }
   ],
   "source": [
    "pipe = Pipeline([('model', DecisionTreeClassifier())])\n",
    "model = pipe.fit(X_train, y_train)\n",
    "prediction = model.predict(X_test)\n",
    "print(\"accuracy: {}%\".format(round(accuracy_score(y_test, prediction)*100,2)))\n",
    "cm = metrics.confusion_matrix(y_test, prediction)\n",
    "plot_confusion_matrix(cm, classes=['Yes', 'No'])"
   ]
  },
  {
   "cell_type": "code",
   "execution_count": 252,
   "metadata": {},
   "outputs": [
    {
     "name": "stderr",
     "output_type": "stream",
     "text": [
      "2022/05/21 15:33:47 WARNING mlflow.utils.autologging_utils: Encountered unexpected error during sklearn autologging: Invalid parent directory 'C:\\Users\\Sebli\\Desktop\\10x Files\\Endework\\SmartAd-Performance-Analysis\\notebooks\\mlruns\\.trash'\n"
     ]
    },
    {
     "name": "stdout",
     "output_type": "stream",
     "text": [
      "accuracy: 52.0%\n",
      "Confusion matrix, without normalization\n"
     ]
    },
    {
     "data": {
      "image/png": "[encoded data removed]",
      "text/plain": [
       "<Figure size 432x288 with 2 Axes>"
      ]
     },
     "metadata": {
      "needs_background": "light"
     },
     "output_type": "display_data"
    }
   ],
   "source": [
    "pipe = Pipeline([('model', BernoulliNB())])\n",
    "model = pipe.fit(X_train, y_train)\n",
    "prediction = model.predict(X_test)\n",
    "print(\"accuracy: {}%\".format(round(accuracy_score(y_test, prediction)*100,2)))\n",
    "cm = metrics.confusion_matrix(y_test, prediction)\n",
    "plot_confusion_matrix(cm, classes=['Yes', 'No'])"
   ]
  },
  {
   "cell_type": "code",
   "execution_count": 253,
   "metadata": {},
   "outputs": [
    {
     "name": "stderr",
     "output_type": "stream",
     "text": [
      "2022/05/21 15:33:48 WARNING mlflow.utils.autologging_utils: Encountered unexpected error during sklearn autologging: Invalid parent directory 'C:\\Users\\Sebli\\Desktop\\10x Files\\Endework\\SmartAd-Performance-Analysis\\notebooks\\mlruns\\.trash'\n"
     ]
    },
    {
     "name": "stdout",
     "output_type": "stream",
     "text": [
      "accuracy: 55.2%\n",
      "Confusion matrix, without normalization\n"
     ]
    },
    {
     "data": {
      "image/png": "[encoded data removed]",
      "text/plain": [
       "<Figure size 432x288 with 2 Axes>"
      ]
     },
     "metadata": {
      "needs_background": "light"
     },
     "output_type": "display_data"
    }
   ],
   "source": [
    "pipe = Pipeline([('model', GaussianNB())])\n",
    "model = pipe.fit(X_train, y_train)\n",
    "prediction = model.predict(X_test)\n",
    "print(\"accuracy: {}%\".format(round(accuracy_score(y_test, prediction)*100,2)))\n",
    "cm = metrics.confusion_matrix(y_test, prediction)\n",
    "plot_confusion_matrix(cm, classes=['Yes', 'No'])"
   ]
  },
  {
   "cell_type": "code",
   "execution_count": 254,
   "metadata": {},
   "outputs": [
    {
     "name": "stderr",
     "output_type": "stream",
     "text": [
      "2022/05/21 15:33:48 WARNING mlflow.utils.autologging_utils: Encountered unexpected error during sklearn autologging: Invalid parent directory 'C:\\Users\\Sebli\\Desktop\\10x Files\\Endework\\SmartAd-Performance-Analysis\\notebooks\\mlruns\\.trash'\n"
     ]
    },
    {
     "name": "stdout",
     "output_type": "stream",
     "text": [
      "accuracy: 59.2%\n",
      "Confusion matrix, without normalization\n"
     ]
    },
    {
     "data": {
      "image/png": "[encoded data removed]",
      "text/plain": [
       "<Figure size 432x288 with 2 Axes>"
      ]
     },
     "metadata": {
      "needs_background": "light"
     },
     "output_type": "display_data"
    }
   ],
   "source": [
    "pipe = Pipeline([('model', XGBClassifier())])\n",
    "model = pipe.fit(X_train, y_train)\n",
    "prediction = model.predict(X_test)\n",
    "print(\"accuracy: {}%\".format(round(accuracy_score(y_test, prediction)*100,2)))\n",
    "cm = metrics.confusion_matrix(y_test, prediction)\n",
    "plot_confusion_matrix(cm, classes=['Fake', 'Real'])"
   ]
  },
  {
   "cell_type": "code",
   "execution_count": 255,
   "metadata": {},
   "outputs": [
    {
     "name": "stderr",
     "output_type": "stream",
     "text": [
      "2022/05/21 15:33:48 WARNING mlflow.utils.autologging_utils: Encountered unexpected error during sklearn autologging: Invalid parent directory 'C:\\Users\\Sebli\\Desktop\\10x Files\\Endework\\SmartAd-Performance-Analysis\\notebooks\\mlruns\\.trash'\n"
     ]
    },
    {
     "name": "stdout",
     "output_type": "stream",
     "text": [
      "accuracy: 52.0%\n",
      "Confusion matrix, without normalization\n"
     ]
    },
    {
     "data": {
      "image/png": "[encoded data removed]",
      "text/plain": [
       "<Figure size 432x288 with 2 Axes>"
      ]
     },
     "metadata": {
      "needs_background": "light"
     },
     "output_type": "display_data"
    }
   ],
   "source": [
    "pipe = Pipeline([('model', KNeighborsClassifier())])\n",
    "model = pipe.fit(X_train, y_train)\n",
    "prediction = model.predict(X_test)\n",
    "print(\"accuracy: {}%\".format(round(accuracy_score(y_test, prediction)*100,2)))\n",
    "cm = metrics.confusion_matrix(y_test, prediction)\n",
    "plot_confusion_matrix(cm, classes=['Fake', 'Real'])"
   ]
  },
  {
   "cell_type": "code",
   "execution_count": 256,
   "metadata": {},
   "outputs": [
    {
     "data": {
      "text/plain": [
       "<BarContainer object of 5 artists>"
      ]
     },
     "execution_count": 256,
     "metadata": {},
     "output_type": "execute_result"
    },
    {
     "data": {
      "image/png": "[encoded data removed]",
      "text/plain": [
       "<Figure size 432x288 with 1 Axes>"
      ]
     },
     "metadata": {
      "needs_background": "light"
     },
     "output_type": "display_data"
    }
   ],
   "source": [
    "plt.barh(feature_cols, rf.feature_importances_,color='purple')"
   ]
  },
  {
   "cell_type": "markdown",
   "metadata": {},
   "source": [
    "Based on the feature importance calculation of our ml model we can conclude that device make and hour has a vital role on brand awareness\n"
   ]
  },
  {
   "cell_type": "markdown",
   "metadata": {},
   "source": [
    "Separating data in two platform and browser datasets"
   ]
  },
  {
   "cell_type": "code",
   "execution_count": 257,
   "metadata": {},
   "outputs": [
    {
     "name": "stderr",
     "output_type": "stream",
     "text": [
      "2022/05/21 15:33:49 INFO mlflow.tracking.fluent: Autologging successfully enabled for sklearn.\n",
      "2022/05/21 15:33:49 INFO mlflow.tracking.fluent: Autologging successfully enabled for xgboost.\n"
     ]
    }
   ],
   "source": [
    "mlflow.autolog()\n",
    "\n",
    "brw = clean_df[[\"experiment\", \"hour\", \"date\", 'device_make', 'browser', 'aware']]\n",
    "\n",
    "data1=brw.to_csv(\"../data/brw.csv\")  \n",
    "plat = clean_df[[\"experiment\", \"hour\", \"date\", 'device_make', 'platform_os', 'aware']]\n"
   ]
  },
  {
   "cell_type": "markdown",
   "metadata": {},
   "source": [
    "The datasets of browser and platform  are saved as version two and version three respectively on dvc"
   ]
  },
  {
   "cell_type": "code",
   "execution_count": 258,
   "metadata": {},
   "outputs": [],
   "source": [
    "#trainig the browser dataset\n",
    "x=brw[[\"experiment\", \"hour\", \"date\", \"device_make\", \"browser\"]]\n",
    "#X_train, X_test, y_train, y_test = train_test_split(X, y, test_size=test_size, random_state=42)\n",
    "X_train, X_test, y_train, y_test = train_test_split(x, brw.aware,test_size=0.3,random_state=45)"
   ]
  },
  {
   "cell_type": "code",
   "execution_count": null,
   "metadata": {},
   "outputs": [],
   "source": [
    "#calling the algorithems to check their respective performace\n",
    "rf = RandomForestRegressor(n_estimators = 100, max_depth = 6, max_features = 3)\n",
    "rf.fit(X_train, y_train)\n",
    "\n",
    "# Use the model to make predictions on the test dataset.\n",
    "predictions = rf.predict(X_test)\n",
    "autolog_run = mlflow.last_active_run()\n",
    "sk_model=rf\n",
    "sk_path_dir_2 = r'C:\\Users\\ende\\Desktop\\abtest-mlops\\models'\n",
    "mlflow.sklearn.save_model(sk_model,sk_path_dir_2,serialization_format=mlflow.sklearn.SERIALIZATION_FORMAT_CLOUDPICKLE)"
   ]
  },
  {
   "cell_type": "code",
   "execution_count": null,
   "metadata": {},
   "outputs": [],
   "source": [
    "#calling the logistic to check their respective performace\n",
    "lg = LogisticRegression()\n",
    "rf.fit(X_train, y_train)\n",
    "\n",
    "# Use the model to make predictions on the test dataset.\n",
    "predictions = lg.predict(X_test)\n",
    "autolog_run = mlflow.last_active_run()\n",
    "sk_model=rf\n",
    "sk_path_dir_2 = r'C:\\Users\\ende\\Desktop\\abtest-mlops\\models'\n",
    "mlflow.sklearn.save_model(sk_model,sk_path_dir_2,serialization_format=mlflow.sklearn.SERIALIZATION_FORMAT_CLOUDPICKLE)"
   ]
  },
  {
   "cell_type": "code",
   "execution_count": null,
   "metadata": {},
   "outputs": [],
   "source": [
    "#calling the logistic to check their respective performace\n",
    "kn = KNeighborsClassifier()\n",
    "rf.fit(X_train, y_train)\n",
    "\n",
    "# Use the model to make predictions on the test dataset.\n",
    "predictions = kn.predict(X_test)\n",
    "autolog_run = mlflow.last_active_run()\n",
    "sk_model=rf\n",
    "sk_path_dir_2 = r'C:\\Users\\ende\\Desktop\\abtest-mlops\\models'\n",
    "mlflow.sklearn.save_model(sk_model,sk_path_dir_2,serialization_format=mlflow.sklearn.SERIALIZATION_FORMAT_CLOUDPICKLE)"
   ]
  },
  {
   "cell_type": "code",
   "execution_count": null,
   "metadata": {},
   "outputs": [],
   "source": [
    "#saving the best perfomer model\n",
    "modelpath = \"/dbfs/my_project_models/model-%f-%f\" % (alpha, l1_ratio)\n",
    "mlflow.sklearn.save_model(lr, modelpath)"
   ]
  },
  {
   "cell_type": "code",
   "execution_count": null,
   "metadata": {},
   "outputs": [],
   "source": [
    "#trainig the platform dataset\n",
    "x=plt[[\"experiment\", \"hour\", \"date\", \"device_make\", \"platform_os\"]]\n",
    "#X_train, X_test, y_train, y_test = train_test_split(X, y, test_size=test_size, random_state=42)\n",
    "X_train, X_test, y_train, y_test = train_test_split(x, plt.aware,test_size=0.3,random_state=45)"
   ]
  },
  {
   "cell_type": "code",
   "execution_count": null,
   "metadata": {},
   "outputs": [],
   "source": [
    "#calling the algorithems to check their respective performace\n",
    "rf = RandomForestRegressor(n_estimators = 100, max_depth = 6, max_features = 3)\n",
    "rf.fit(X_train, y_train)\n",
    "\n",
    "# Use the model to make predictions on the test dataset.\n",
    "predictions = rf.predict(X_test)\n",
    "autolog_run = mlflow.last_active_run()\n",
    "sk_model=rf\n",
    "sk_path_dir_2 = r'C:\\Users\\ende\\Desktop\\abtest-mlops\\models'\n",
    "mlflow.sklearn.save_model(sk_model,sk_path_dir_2,serialization_format=mlflow.sklearn.SERIALIZATION_FORMAT_CLOUDPICKLE)"
   ]
  },
  {
   "cell_type": "code",
   "execution_count": null,
   "metadata": {},
   "outputs": [],
   "source": [
    "#calling the logistic to check their respective performace\n",
    "lg = LogisticRegression()\n",
    "rf.fit(X_train, y_train)\n",
    "\n",
    "# Use the model to make predictions on the test dataset.\n",
    "predictions = lg.predict(X_test)\n",
    "autolog_run = mlflow.last_active_run()\n",
    "sk_model=rf\n",
    "sk_path_dir_2 = r'C:\\Users\\ende\\Desktop\\abtest-mlops\\models'\n",
    "mlflow.sklearn.save_model(sk_model,sk_path_dir_2,serialization_format=mlflow.sklearn.SERIALIZATION_FORMAT_CLOUDPICKLE)\n"
   ]
  },
  {
   "cell_type": "code",
   "execution_count": null,
   "metadata": {},
   "outputs": [],
   "source": [
    "#calling the logistic to check their respective performace\n",
    "kn = KNeighborsClassifier()\n",
    "rf.fit(X_train, y_train)\n",
    "\n",
    "# Use the model to make predictions on the test dataset.\n",
    "predictions = kn.predict(X_test)\n",
    "autolog_run = mlflow.last_active_run()\n",
    "sk_model=rf\n",
    "sk_path_dir_2 = r'C:\\Users\\ende\\Desktop\\abtest-mlops\\models'\n",
    "mlflow.sklearn.save_model(sk_model,sk_path_dir_2,serialization_format=mlflow.sklearn.SERIALIZATION_FORMAT_CLOUDPICKLE)"
   ]
  },
  {
   "cell_type": "code",
   "execution_count": null,
   "metadata": {},
   "outputs": [],
   "source": [
    "#saving the best perfomer model\n",
    "modelpath = \"/dbfs/my_project_models/model-%f-%f\" % (alpha, l1_ratio)\n",
    "mlflow.sklearn.save_model(lr, modelpath)"
   ]
  }
 ],
 "metadata": {
  "interpreter": {
   "hash": "0f08ea943be090a14eff5269cda570ac55dcc0e2bd93317a14b7d7e20047a087"
  },
  "kernelspec": {
   "display_name": "Python 3.10.4 64-bit (windows store)",
   "language": "python",
   "name": "python3"
  },
  "language_info": {
   "codemirror_mode": {
    "name": "ipython",
    "version": 3
   },
   "file_extension": ".py",
   "mimetype": "text/x-python",
   "name": "python",
   "nbconvert_exporter": "python",
   "pygments_lexer": "ipython3",
   "version": "3.10.4"
  },
  "orig_nbformat": 4
 },
 "nbformat": 4,
 "nbformat_minor": 2
}
