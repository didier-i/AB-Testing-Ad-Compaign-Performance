{
 "cells": [
  {
   "cell_type": "markdown",
   "metadata": {},
   "source": [
    "### Read in the Libraries and Dataset"
   ]
  },
  {
   "cell_type": "code",
   "execution_count": 1,
   "metadata": {},
   "outputs": [],
   "source": [
    "# Import libraries for our task\n",
    "from sklearn.model_selection import train_test_split\n",
    "from sklearn.linear_model import LogisticRegression\n",
    "from sklearn.ensemble import RandomForestClassifier\n",
    "from sklearn.preprocessing import StandardScaler\n",
    "from sklearn.tree import DecisionTreeClassifier\n",
    "from sklearn.decomposition import PCA\n",
    "from sklearn.pipeline import Pipeline\n",
    "from sklearn import preprocessing\n",
    "\n",
    "import dvc.api\n",
    "import numpy as np\n",
    "import pandas as pd\n",
    "import seaborn as sns \n",
    "import plotly.express as px\n",
    "import plotly.graph_objects as go\n",
    "import matplotlib.pyplot as plt\n",
    "from plotly.subplots import make_subplots"
   ]
  },
  {
   "cell_type": "code",
   "execution_count": 2,
   "metadata": {},
   "outputs": [],
   "source": [
    "# Import system libraries and our Scripts\n",
    "\n",
    "import os\n",
    "import sys\n",
    "import warnings\n",
    "warnings.filterwarnings('ignore')\n",
    "sys.path.append(os.path.abspath(os.path.join('../script')))\n",
    "from train_classifiers import TrainingClassifier "
   ]
  },
  {
   "cell_type": "code",
   "execution_count": 3,
   "metadata": {},
   "outputs": [],
   "source": [
    "# Read AdSmart_AB_testing_data \n",
    "\n",
    "cleaned_data  = pd.read_csv('../data/clean_data.csv')"
   ]
  },
  {
   "cell_type": "code",
   "execution_count": 4,
   "metadata": {},
   "outputs": [
    {
     "name": "stdout",
     "output_type": "stream",
     "text": [
      "<class 'pandas.core.frame.DataFrame'>\n",
      "RangeIndex: 1243 entries, 0 to 1242\n",
      "Data columns (total 9 columns):\n",
      " #   Column       Non-Null Count  Dtype \n",
      "---  ------       --------------  ----- \n",
      " 0   Unnamed: 0   1243 non-null   int64 \n",
      " 1   auction_id   1243 non-null   object\n",
      " 2   experiment   1243 non-null   object\n",
      " 3   date         1243 non-null   object\n",
      " 4   hour         1243 non-null   int64 \n",
      " 5   device_make  1243 non-null   object\n",
      " 6   platform_os  1243 non-null   int64 \n",
      " 7   browser      1243 non-null   object\n",
      " 8   aware        1243 non-null   int64 \n",
      "dtypes: int64(4), object(5)\n",
      "memory usage: 87.5+ KB\n"
     ]
    }
   ],
   "source": [
    "# The types and shape of data features in the dataset\n",
    "\n",
    "cleaned_data.info()"
   ]
  },
  {
   "cell_type": "code",
   "execution_count": 10,
   "metadata": {},
   "outputs": [],
   "source": [
    "def get_data(tag, path='data/AdSmart_AB_testing_data.csv', repo='https://github.com/bkget/SmartAd-Performance-Analysis'):\n",
    "    rev = tag\n",
    "    data_url = dvc.api.get_url(path=path, repo=repo, rev=rev)\n",
    "    df = pd.read_csv(data_url)\n",
    "    return df"
   ]
  },
  {
   "cell_type": "code",
   "execution_count": null,
   "metadata": {},
   "outputs": [],
   "source": [
    "read = get_data('v1')"
   ]
  },
  {
   "cell_type": "markdown",
   "metadata": {},
   "source": [
    "##### Label Encoding the  Data"
   ]
  },
  {
   "cell_type": "code",
   "execution_count": 1,
   "metadata": {},
   "outputs": [],
   "source": [
    "def encode_labels(df):\n",
    "    date_encoder = preprocessing.LabelEncoder()\n",
    "    device_encoder = preprocessing.LabelEncoder()\n",
    "    browser_encoder = preprocessing.LabelEncoder()\n",
    "    experiment_encoder = preprocessing.LabelEncoder()\n",
    "    aware_encoder = preprocessing.LabelEncoder()\n",
    "    \n",
    "    df['date'] = date_encoder.fit_transform(df['date'])\n",
    "    df['device_make'] = device_encoder.fit_transform(df['device_make'])\n",
    "    df['browser'] = browser_encoder.fit_transform(df['browser'])\n",
    "    df['experiment'] = experiment_encoder.fit_transform(df['experiment'])\n",
    "    df['browser'] = aware_encoder.fit_transform(df['browser'])\n",
    "    df['aware'] = aware_encoder.fit_transform(df['aware'])\n",
    "    \n",
    "    return df    "
   ]
  },
  {
   "cell_type": "markdown",
   "metadata": {},
   "source": [
    "##### Spliting the data by browser and platform_os columns"
   ]
  },
  {
   "cell_type": "code",
   "execution_count": 55,
   "metadata": {},
   "outputs": [],
   "source": [
    "def feature_data(df):\n",
    "    \n",
    "    browser_feature_df = df[[\"experiment\", \"hour\", \"date\", 'device_make', 'browser', 'aware']] \n",
    "    platform_feature_df = df[[\"experiment\", \"hour\", \"date\", 'device_make', 'platform_os', 'aware']] \n",
    "\n",
    "    return browser_feature_df, platform_feature_df"
   ]
  },
  {
   "cell_type": "code",
   "execution_count": 56,
   "metadata": {},
   "outputs": [],
   "source": [
    "def save_encoded_df(df):\n",
    "    \n",
    "    broweser_df, platfrom_df = feature_data(df)\n",
    "    broweser_df.save_csv(\"../Data/browser_featured_data.csv\")\n",
    "    platfrom_df.save_csv(platfrom_df, \"../data/platform_featured_data.csv\") "
   ]
  },
  {
   "cell_type": "code",
   "execution_count": 57,
   "metadata": {},
   "outputs": [],
   "source": [
    "cleaned_data = encode_labels(cleaned_data)\n",
    "cleaned_browser_df, cleaned_platform_df = feature_data(cleaned_data)"
   ]
  },
  {
   "cell_type": "code",
   "execution_count": 58,
   "metadata": {},
   "outputs": [
    {
     "data": {
      "text/html": [
       "<div>\n",
       "<style scoped>\n",
       "    .dataframe tbody tr th:only-of-type {\n",
       "        vertical-align: middle;\n",
       "    }\n",
       "\n",
       "    .dataframe tbody tr th {\n",
       "        vertical-align: top;\n",
       "    }\n",
       "\n",
       "    .dataframe thead th {\n",
       "        text-align: right;\n",
       "    }\n",
       "</style>\n",
       "<table border=\"1\" class=\"dataframe\">\n",
       "  <thead>\n",
       "    <tr style=\"text-align: right;\">\n",
       "      <th></th>\n",
       "      <th>experiment</th>\n",
       "      <th>hour</th>\n",
       "      <th>date</th>\n",
       "      <th>device_make</th>\n",
       "      <th>browser</th>\n",
       "      <th>aware</th>\n",
       "    </tr>\n",
       "  </thead>\n",
       "  <tbody>\n",
       "    <tr>\n",
       "      <th>0</th>\n",
       "      <td>1</td>\n",
       "      <td>2</td>\n",
       "      <td>2</td>\n",
       "      <td>4</td>\n",
       "      <td>2</td>\n",
       "      <td>0</td>\n",
       "    </tr>\n",
       "    <tr>\n",
       "      <th>1</th>\n",
       "      <td>1</td>\n",
       "      <td>16</td>\n",
       "      <td>1</td>\n",
       "      <td>13</td>\n",
       "      <td>1</td>\n",
       "      <td>1</td>\n",
       "    </tr>\n",
       "    <tr>\n",
       "      <th>2</th>\n",
       "      <td>1</td>\n",
       "      <td>8</td>\n",
       "      <td>3</td>\n",
       "      <td>13</td>\n",
       "      <td>1</td>\n",
       "      <td>0</td>\n",
       "    </tr>\n",
       "    <tr>\n",
       "      <th>3</th>\n",
       "      <td>0</td>\n",
       "      <td>4</td>\n",
       "      <td>5</td>\n",
       "      <td>43</td>\n",
       "      <td>4</td>\n",
       "      <td>1</td>\n",
       "    </tr>\n",
       "    <tr>\n",
       "      <th>4</th>\n",
       "      <td>0</td>\n",
       "      <td>15</td>\n",
       "      <td>0</td>\n",
       "      <td>13</td>\n",
       "      <td>1</td>\n",
       "      <td>0</td>\n",
       "    </tr>\n",
       "  </tbody>\n",
       "</table>\n",
       "</div>"
      ],
      "text/plain": [
       "   experiment  hour  date  device_make  browser  aware\n",
       "0           1     2     2            4        2      0\n",
       "1           1    16     1           13        1      1\n",
       "2           1     8     3           13        1      0\n",
       "3           0     4     5           43        4      1\n",
       "4           0    15     0           13        1      0"
      ]
     },
     "execution_count": 58,
     "metadata": {},
     "output_type": "execute_result"
    }
   ],
   "source": [
    "cleaned_browser_df.head()"
   ]
  },
  {
   "cell_type": "code",
   "execution_count": 59,
   "metadata": {},
   "outputs": [],
   "source": [
    "Y_col = 'aware'\n",
    "X_cols = cleaned_browser_df.loc[:, cleaned_browser_df.columns != Y_col].columns\n",
    "\n",
    "X_train,X_test,y_train,y_test=train_test_split(cleaned_browser_df[X_cols], cleaned_browser_df[Y_col],\\\n",
    "                                                test_size=0.1, random_state=42)"
   ]
  },
  {
   "cell_type": "markdown",
   "metadata": {},
   "source": [
    "#### **Training Browser Featured Data**"
   ]
  },
  {
   "cell_type": "markdown",
   "metadata": {},
   "source": [
    "##### Training with Logistic Regression"
   ]
  },
  {
   "cell_type": "code",
   "execution_count": 60,
   "metadata": {},
   "outputs": [
    {
     "name": "stdout",
     "output_type": "stream",
     "text": [
      "step 0: Validation Accuracy of Logistic Regression Classifier is: 0.545\n",
      "step 0: Validation Loss of Logistic Regression Classifier is: 0.675\n",
      "\n",
      "step 1: Validation Accuracy of Logistic Regression Classifier is: 0.527\n",
      "step 1: Validation Loss of Logistic Regression Classifier is: 0.688\n",
      "\n",
      "step 2: Validation Accuracy of Logistic Regression Classifier is: 0.554\n",
      "step 2: Validation Loss of Logistic Regression Classifier is: 0.668\n",
      "\n",
      "step 3: Validation Accuracy of Logistic Regression Classifier is: 0.543\n",
      "step 3: Validation Loss of Logistic Regression Classifier is: 0.676\n",
      "\n",
      "step 4: Validation Accuracy of Logistic Regression Classifier is: 0.574\n",
      "step 4: Validation Loss of Logistic Regression Classifier is: 0.653\n",
      "\n"
     ]
    }
   ],
   "source": [
    "LR = TrainingClassifier(X_train, X_test,  y_train, y_test, \"logistic_regression\")\n",
    "\n",
    "clf2, loss_arr_2, acc_arr_2 = LR.train(5)"
   ]
  },
  {
   "cell_type": "code",
   "execution_count": 61,
   "metadata": {},
   "outputs": [
    {
     "name": "stdout",
     "output_type": "stream",
     "text": [
      "step 1: Test Accuracy of Logistic Regression Classifier is: 0.552\n",
      "Test Metrics\n",
      "================\n",
      "              precision    recall  f1-score   support\n",
      "\n",
      "           0       0.89      0.54      0.67       107\n",
      "           1       0.18      0.61      0.28        18\n",
      "\n",
      "    accuracy                           0.55       125\n",
      "   macro avg       0.54      0.58      0.48       125\n",
      "weighted avg       0.79      0.55      0.62       125\n",
      "\n"
     ]
    },
    {
     "data": {
      "image/png": "[encoded data removed]",
      "text/plain": [
       "<Figure size 432x288 with 2 Axes>"
      ]
     },
     "metadata": {
      "needs_background": "light"
     },
     "output_type": "display_data"
    }
   ],
   "source": [
    "test_acc2, test_loss2, report2, matrix2  = LR.test()"
   ]
  },
  {
   "cell_type": "code",
   "execution_count": 62,
   "metadata": {},
   "outputs": [
    {
     "data": {
      "image/png": "[encoded data removed]",
      "text/plain": [
       "<Figure size 864x504 with 1 Axes>"
      ]
     },
     "metadata": {
      "needs_background": "light"
     },
     "output_type": "display_data"
    },
    {
     "data": {
      "text/html": [
       "<div>\n",
       "<style scoped>\n",
       "    .dataframe tbody tr th:only-of-type {\n",
       "        vertical-align: middle;\n",
       "    }\n",
       "\n",
       "    .dataframe tbody tr th {\n",
       "        vertical-align: top;\n",
       "    }\n",
       "\n",
       "    .dataframe thead th {\n",
       "        text-align: right;\n",
       "    }\n",
       "</style>\n",
       "<table border=\"1\" class=\"dataframe\">\n",
       "  <thead>\n",
       "    <tr style=\"text-align: right;\">\n",
       "      <th></th>\n",
       "      <th>features</th>\n",
       "      <th>p_values</th>\n",
       "    </tr>\n",
       "  </thead>\n",
       "  <tbody>\n",
       "    <tr>\n",
       "      <th>0</th>\n",
       "      <td>experiment</td>\n",
       "      <td>0.321315</td>\n",
       "    </tr>\n",
       "    <tr>\n",
       "      <th>1</th>\n",
       "      <td>hour</td>\n",
       "      <td>0.003776</td>\n",
       "    </tr>\n",
       "    <tr>\n",
       "      <th>2</th>\n",
       "      <td>date</td>\n",
       "      <td>0.449766</td>\n",
       "    </tr>\n",
       "    <tr>\n",
       "      <th>3</th>\n",
       "      <td>device_make</td>\n",
       "      <td>0.230609</td>\n",
       "    </tr>\n",
       "    <tr>\n",
       "      <th>4</th>\n",
       "      <td>browser</td>\n",
       "      <td>0.408101</td>\n",
       "    </tr>\n",
       "  </tbody>\n",
       "</table>\n",
       "</div>"
      ],
      "text/plain": [
       "      features  p_values\n",
       "0   experiment  0.321315\n",
       "1         hour  0.003776\n",
       "2         date  0.449766\n",
       "3  device_make  0.230609\n",
       "4      browser  0.408101"
      ]
     },
     "execution_count": 62,
     "metadata": {},
     "output_type": "execute_result"
    }
   ],
   "source": [
    "p_values_df = LR.get_p_values()\n",
    "LR.plot_pvalues(p_values_df)\n",
    "p_values_df"
   ]
  },
  {
   "cell_type": "markdown",
   "metadata": {},
   "source": [
    "The P-value for experiment is 0.3. It is not that much significant, since our significance level is 0.05. Hour is the most important predictor for the Logestic Regression Model with p value 0.001, it is then follwed by device_make then experiment. The least predictor for the Logestic Regression Model is date"
   ]
  },
  {
   "cell_type": "markdown",
   "metadata": {},
   "source": [
    "##### Training with RandomForest"
   ]
  },
  {
   "cell_type": "code",
   "execution_count": 63,
   "metadata": {},
   "outputs": [
    {
     "name": "stdout",
     "output_type": "stream",
     "text": [
      "step 0: Validation Accuracy of Random Forest Classifier is: 0.522\n",
      "step 0: Validation Loss of Random Forest Classifier is: 0.691\n",
      "\n",
      "step 1: Validation Accuracy of Random Forest Classifier is: 0.554\n",
      "step 1: Validation Loss of Random Forest Classifier is: 0.668\n",
      "\n",
      "step 2: Validation Accuracy of Random Forest Classifier is: 0.540\n",
      "step 2: Validation Loss of Random Forest Classifier is: 0.678\n",
      "\n",
      "step 3: Validation Accuracy of Random Forest Classifier is: 0.489\n",
      "step 3: Validation Loss of Random Forest Classifier is: 0.715\n",
      "\n",
      "step 4: Validation Accuracy of Random Forest Classifier is: 0.570\n",
      "step 4: Validation Loss of Random Forest Classifier is: 0.656\n",
      "\n"
     ]
    }
   ],
   "source": [
    "RF = TrainingClassifier(X_train, X_test,  y_train, y_test, \"random_forest\")\n",
    "\n",
    "clf2, loss_arr_2, acc_arr_2 = RF.train(5)"
   ]
  },
  {
   "cell_type": "code",
   "execution_count": 64,
   "metadata": {},
   "outputs": [
    {
     "name": "stdout",
     "output_type": "stream",
     "text": [
      "step 1: Test Accuracy of Random Forest Classifier is: 0.504\n",
      "Test Metrics\n",
      "================\n",
      "              precision    recall  f1-score   support\n",
      "\n",
      "           0       0.65      0.52      0.58        81\n",
      "           1       0.35      0.48      0.40        44\n",
      "\n",
      "    accuracy                           0.50       125\n",
      "   macro avg       0.50      0.50      0.49       125\n",
      "weighted avg       0.54      0.50      0.51       125\n",
      "\n",
      "Loss on test data is: 0.704\n",
      "\n"
     ]
    },
    {
     "data": {
      "image/png": "[encoded data removed]",
      "text/plain": [
       "<Figure size 432x288 with 2 Axes>"
      ]
     },
     "metadata": {
      "needs_background": "light"
     },
     "output_type": "display_data"
    }
   ],
   "source": [
    "test_acc, loss, report, confusion_matrix = RF.test()\n",
    "print(f\"Loss on test data is: {loss:.3f}\")\n",
    "print()"
   ]
  },
  {
   "cell_type": "code",
   "execution_count": 65,
   "metadata": {},
   "outputs": [
    {
     "data": {
      "text/html": [
       "<div>\n",
       "<style scoped>\n",
       "    .dataframe tbody tr th:only-of-type {\n",
       "        vertical-align: middle;\n",
       "    }\n",
       "\n",
       "    .dataframe tbody tr th {\n",
       "        vertical-align: top;\n",
       "    }\n",
       "\n",
       "    .dataframe thead th {\n",
       "        text-align: right;\n",
       "    }\n",
       "</style>\n",
       "<table border=\"1\" class=\"dataframe\">\n",
       "  <thead>\n",
       "    <tr style=\"text-align: right;\">\n",
       "      <th></th>\n",
       "      <th>feature</th>\n",
       "      <th>feature_importances</th>\n",
       "    </tr>\n",
       "  </thead>\n",
       "  <tbody>\n",
       "    <tr>\n",
       "      <th>0</th>\n",
       "      <td>experiment</td>\n",
       "      <td>0.049103</td>\n",
       "    </tr>\n",
       "    <tr>\n",
       "      <th>1</th>\n",
       "      <td>hour</td>\n",
       "      <td>0.387808</td>\n",
       "    </tr>\n",
       "    <tr>\n",
       "      <th>2</th>\n",
       "      <td>date</td>\n",
       "      <td>0.197266</td>\n",
       "    </tr>\n",
       "    <tr>\n",
       "      <th>3</th>\n",
       "      <td>device_make</td>\n",
       "      <td>0.286373</td>\n",
       "    </tr>\n",
       "    <tr>\n",
       "      <th>4</th>\n",
       "      <td>browser</td>\n",
       "      <td>0.079451</td>\n",
       "    </tr>\n",
       "  </tbody>\n",
       "</table>\n",
       "</div>"
      ],
      "text/plain": [
       "       feature  feature_importances\n",
       "0   experiment             0.049103\n",
       "1         hour             0.387808\n",
       "2         date             0.197266\n",
       "3  device_make             0.286373\n",
       "4      browser             0.079451"
      ]
     },
     "execution_count": 65,
     "metadata": {},
     "output_type": "execute_result"
    }
   ],
   "source": [
    "RF.get_feature_importance()"
   ]
  },
  {
   "cell_type": "markdown",
   "metadata": {},
   "source": [
    "##### Training with XGBoost"
   ]
  },
  {
   "cell_type": "code",
   "execution_count": 66,
   "metadata": {},
   "outputs": [
    {
     "name": "stdout",
     "output_type": "stream",
     "text": [
      "step 0: Validation Accuracy of XGBoost Classifier is: 0.554\n",
      "step 0: Validation Loss of XGBoost Classifier is: 0.668\n",
      "\n",
      "step 1: Validation Accuracy of XGBoost Classifier is: 0.558\n",
      "step 1: Validation Loss of XGBoost Classifier is: 0.665\n",
      "\n",
      "step 2: Validation Accuracy of XGBoost Classifier is: 0.580\n",
      "step 2: Validation Loss of XGBoost Classifier is: 0.648\n",
      "\n",
      "step 3: Validation Accuracy of XGBoost Classifier is: 0.480\n",
      "step 3: Validation Loss of XGBoost Classifier is: 0.721\n",
      "\n",
      "step 4: Validation Accuracy of XGBoost Classifier is: 0.583\n",
      "step 4: Validation Loss of XGBoost Classifier is: 0.646\n",
      "\n"
     ]
    }
   ],
   "source": [
    "XG = TrainingClassifier(X_train, X_test,  y_train, y_test, \"xgboost\")\n",
    "clf, acc_arr, loss_arr = XG.train(5)"
   ]
  },
  {
   "cell_type": "code",
   "execution_count": 67,
   "metadata": {},
   "outputs": [
    {
     "name": "stdout",
     "output_type": "stream",
     "text": [
      "step 1: Test Accuracy of XGBoost Classifier is: 0.504\n",
      "Test Metrics\n",
      "================\n",
      "              precision    recall  f1-score   support\n",
      "\n",
      "           0       0.66      0.52      0.58        83\n",
      "           1       0.33      0.48      0.39        42\n",
      "\n",
      "    accuracy                           0.50       125\n",
      "   macro avg       0.50      0.50      0.49       125\n",
      "weighted avg       0.55      0.50      0.52       125\n",
      "\n",
      "Loss on test data is: 0.704\n",
      "\n"
     ]
    },
    {
     "data": {
      "image/png": "[encoded data removed]",
      "text/plain": [
       "<Figure size 432x288 with 2 Axes>"
      ]
     },
     "metadata": {
      "needs_background": "light"
     },
     "output_type": "display_data"
    }
   ],
   "source": [
    "test_acc, loss, report, confusion_matrix = XG.test()\n",
    "print(f\"Loss on test data is: {loss:.3f}\")\n",
    "print()"
   ]
  },
  {
   "cell_type": "code",
   "execution_count": 68,
   "metadata": {},
   "outputs": [
    {
     "data": {
      "image/png": "[encoded data removed]",
      "text/plain": [
       "<Figure size 864x504 with 1 Axes>"
      ]
     },
     "metadata": {
      "needs_background": "light"
     },
     "output_type": "display_data"
    },
    {
     "data": {
      "text/html": [
       "<div>\n",
       "<style scoped>\n",
       "    .dataframe tbody tr th:only-of-type {\n",
       "        vertical-align: middle;\n",
       "    }\n",
       "\n",
       "    .dataframe tbody tr th {\n",
       "        vertical-align: top;\n",
       "    }\n",
       "\n",
       "    .dataframe thead th {\n",
       "        text-align: right;\n",
       "    }\n",
       "</style>\n",
       "<table border=\"1\" class=\"dataframe\">\n",
       "  <thead>\n",
       "    <tr style=\"text-align: right;\">\n",
       "      <th></th>\n",
       "      <th>features</th>\n",
       "      <th>p_values</th>\n",
       "    </tr>\n",
       "  </thead>\n",
       "  <tbody>\n",
       "    <tr>\n",
       "      <th>0</th>\n",
       "      <td>experiment</td>\n",
       "      <td>0.321315</td>\n",
       "    </tr>\n",
       "    <tr>\n",
       "      <th>1</th>\n",
       "      <td>hour</td>\n",
       "      <td>0.003776</td>\n",
       "    </tr>\n",
       "    <tr>\n",
       "      <th>2</th>\n",
       "      <td>date</td>\n",
       "      <td>0.449766</td>\n",
       "    </tr>\n",
       "    <tr>\n",
       "      <th>3</th>\n",
       "      <td>device_make</td>\n",
       "      <td>0.230609</td>\n",
       "    </tr>\n",
       "    <tr>\n",
       "      <th>4</th>\n",
       "      <td>browser</td>\n",
       "      <td>0.408101</td>\n",
       "    </tr>\n",
       "  </tbody>\n",
       "</table>\n",
       "</div>"
      ],
      "text/plain": [
       "      features  p_values\n",
       "0   experiment  0.321315\n",
       "1         hour  0.003776\n",
       "2         date  0.449766\n",
       "3  device_make  0.230609\n",
       "4      browser  0.408101"
      ]
     },
     "execution_count": 68,
     "metadata": {},
     "output_type": "execute_result"
    }
   ],
   "source": [
    "XG.plot_pvalues(p_values_df)\n",
    "p_values_df"
   ]
  },
  {
   "cell_type": "markdown",
   "metadata": {},
   "source": [
    "##### Training with Decision Tree"
   ]
  },
  {
   "cell_type": "code",
   "execution_count": 69,
   "metadata": {},
   "outputs": [
    {
     "name": "stdout",
     "output_type": "stream",
     "text": [
      "step 0: Validation Accuracy of Decision Tree Classifier is: 0.571\n",
      "step 0: Validation Loss of Decision Tree Classifier is: 0.655\n",
      "\n",
      "step 1: Validation Accuracy of Decision Tree Classifier is: 0.531\n",
      "step 1: Validation Loss of Decision Tree Classifier is: 0.685\n",
      "\n",
      "step 2: Validation Accuracy of Decision Tree Classifier is: 0.558\n",
      "step 2: Validation Loss of Decision Tree Classifier is: 0.665\n",
      "\n",
      "step 3: Validation Accuracy of Decision Tree Classifier is: 0.516\n",
      "step 3: Validation Loss of Decision Tree Classifier is: 0.696\n",
      "\n",
      "step 4: Validation Accuracy of Decision Tree Classifier is: 0.565\n",
      "step 4: Validation Loss of Decision Tree Classifier is: 0.660\n",
      "\n"
     ]
    }
   ],
   "source": [
    "DT = TrainingClassifier(X_train, X_test,  y_train, y_test, \"decision_tree\")\n",
    "clf, acc_arr, loss_arr = DT.train(5)"
   ]
  },
  {
   "cell_type": "markdown",
   "metadata": {},
   "source": [
    "##### Testing Decision Tree Model"
   ]
  },
  {
   "cell_type": "code",
   "execution_count": 70,
   "metadata": {},
   "outputs": [
    {
     "name": "stdout",
     "output_type": "stream",
     "text": [
      "step 1: Test Accuracy of Decision Tree Classifier is: 0.544\n",
      "Test Metrics\n",
      "================\n",
      "              precision    recall  f1-score   support\n",
      "\n",
      "           0       0.95      0.53      0.69       116\n",
      "           1       0.10      0.67      0.17         9\n",
      "\n",
      "    accuracy                           0.54       125\n",
      "   macro avg       0.53      0.60      0.43       125\n",
      "weighted avg       0.89      0.54      0.65       125\n",
      "\n",
      "Loss on test data is: 0.675\n",
      "\n"
     ]
    },
    {
     "data": {
      "image/png": "[encoded data removed]",
      "text/plain": [
       "<Figure size 432x288 with 2 Axes>"
      ]
     },
     "metadata": {
      "needs_background": "light"
     },
     "output_type": "display_data"
    }
   ],
   "source": [
    "test_acc, loss, report, confusion_matrix = DT.test()\n",
    "print(f\"Loss on test data is: {loss:.3f}\")\n",
    "print()"
   ]
  },
  {
   "cell_type": "markdown",
   "metadata": {},
   "source": [
    "##### Feature Importance"
   ]
  },
  {
   "cell_type": "code",
   "execution_count": 71,
   "metadata": {},
   "outputs": [
    {
     "data": {
      "text/html": [
       "<div>\n",
       "<style scoped>\n",
       "    .dataframe tbody tr th:only-of-type {\n",
       "        vertical-align: middle;\n",
       "    }\n",
       "\n",
       "    .dataframe tbody tr th {\n",
       "        vertical-align: top;\n",
       "    }\n",
       "\n",
       "    .dataframe thead th {\n",
       "        text-align: right;\n",
       "    }\n",
       "</style>\n",
       "<table border=\"1\" class=\"dataframe\">\n",
       "  <thead>\n",
       "    <tr style=\"text-align: right;\">\n",
       "      <th></th>\n",
       "      <th>feature</th>\n",
       "      <th>feature_importances</th>\n",
       "    </tr>\n",
       "  </thead>\n",
       "  <tbody>\n",
       "    <tr>\n",
       "      <th>0</th>\n",
       "      <td>experiment</td>\n",
       "      <td>0.000000</td>\n",
       "    </tr>\n",
       "    <tr>\n",
       "      <th>1</th>\n",
       "      <td>hour</td>\n",
       "      <td>0.410528</td>\n",
       "    </tr>\n",
       "    <tr>\n",
       "      <th>2</th>\n",
       "      <td>date</td>\n",
       "      <td>0.054408</td>\n",
       "    </tr>\n",
       "    <tr>\n",
       "      <th>3</th>\n",
       "      <td>device_make</td>\n",
       "      <td>0.336032</td>\n",
       "    </tr>\n",
       "    <tr>\n",
       "      <th>4</th>\n",
       "      <td>browser</td>\n",
       "      <td>0.199031</td>\n",
       "    </tr>\n",
       "  </tbody>\n",
       "</table>\n",
       "</div>"
      ],
      "text/plain": [
       "       feature  feature_importances\n",
       "0   experiment             0.000000\n",
       "1         hour             0.410528\n",
       "2         date             0.054408\n",
       "3  device_make             0.336032\n",
       "4      browser             0.199031"
      ]
     },
     "execution_count": 71,
     "metadata": {},
     "output_type": "execute_result"
    }
   ],
   "source": [
    "DT.get_feature_importance()"
   ]
  },
  {
   "cell_type": "markdown",
   "metadata": {},
   "source": [
    "In this Decision Tree model with a max-depth of 5, the experiment feature has the minimum feature importances, which means it contributes very small feature for this model.The device feature on the other hand is the most important feature of this model with 0.3 followed by hour. But we might get a differnt result in feature importance by changing the max-depth."
   ]
  },
  {
   "cell_type": "markdown",
   "metadata": {},
   "source": [
    "#### **Training Platform Featured Data**"
   ]
  },
  {
   "cell_type": "code",
   "execution_count": 72,
   "metadata": {},
   "outputs": [
    {
     "data": {
      "text/html": [
       "<div>\n",
       "<style scoped>\n",
       "    .dataframe tbody tr th:only-of-type {\n",
       "        vertical-align: middle;\n",
       "    }\n",
       "\n",
       "    .dataframe tbody tr th {\n",
       "        vertical-align: top;\n",
       "    }\n",
       "\n",
       "    .dataframe thead th {\n",
       "        text-align: right;\n",
       "    }\n",
       "</style>\n",
       "<table border=\"1\" class=\"dataframe\">\n",
       "  <thead>\n",
       "    <tr style=\"text-align: right;\">\n",
       "      <th></th>\n",
       "      <th>experiment</th>\n",
       "      <th>hour</th>\n",
       "      <th>date</th>\n",
       "      <th>device_make</th>\n",
       "      <th>platform_os</th>\n",
       "      <th>aware</th>\n",
       "    </tr>\n",
       "  </thead>\n",
       "  <tbody>\n",
       "    <tr>\n",
       "      <th>0</th>\n",
       "      <td>1</td>\n",
       "      <td>2</td>\n",
       "      <td>2</td>\n",
       "      <td>4</td>\n",
       "      <td>6</td>\n",
       "      <td>0</td>\n",
       "    </tr>\n",
       "    <tr>\n",
       "      <th>1</th>\n",
       "      <td>1</td>\n",
       "      <td>16</td>\n",
       "      <td>1</td>\n",
       "      <td>13</td>\n",
       "      <td>6</td>\n",
       "      <td>1</td>\n",
       "    </tr>\n",
       "    <tr>\n",
       "      <th>2</th>\n",
       "      <td>1</td>\n",
       "      <td>8</td>\n",
       "      <td>3</td>\n",
       "      <td>13</td>\n",
       "      <td>6</td>\n",
       "      <td>0</td>\n",
       "    </tr>\n",
       "    <tr>\n",
       "      <th>3</th>\n",
       "      <td>0</td>\n",
       "      <td>4</td>\n",
       "      <td>5</td>\n",
       "      <td>43</td>\n",
       "      <td>6</td>\n",
       "      <td>1</td>\n",
       "    </tr>\n",
       "    <tr>\n",
       "      <th>4</th>\n",
       "      <td>0</td>\n",
       "      <td>15</td>\n",
       "      <td>0</td>\n",
       "      <td>13</td>\n",
       "      <td>6</td>\n",
       "      <td>0</td>\n",
       "    </tr>\n",
       "  </tbody>\n",
       "</table>\n",
       "</div>"
      ],
      "text/plain": [
       "   experiment  hour  date  device_make  platform_os  aware\n",
       "0           1     2     2            4            6      0\n",
       "1           1    16     1           13            6      1\n",
       "2           1     8     3           13            6      0\n",
       "3           0     4     5           43            6      1\n",
       "4           0    15     0           13            6      0"
      ]
     },
     "execution_count": 72,
     "metadata": {},
     "output_type": "execute_result"
    }
   ],
   "source": [
    "cleaned_platform_df.head()"
   ]
  },
  {
   "cell_type": "code",
   "execution_count": 73,
   "metadata": {},
   "outputs": [],
   "source": [
    "Y_col = 'aware'\n",
    "X_cols = cleaned_platform_df.loc[:, cleaned_platform_df.columns != Y_col].columns\n",
    "\n",
    "X_train,X_test,y_train,y_test=train_test_split(cleaned_platform_df[X_cols], cleaned_platform_df[Y_col],\\\n",
    "                                                test_size=0.1, random_state=42)"
   ]
  },
  {
   "cell_type": "markdown",
   "metadata": {},
   "source": [
    "##### Train with Logistic Regression"
   ]
  },
  {
   "cell_type": "code",
   "execution_count": 74,
   "metadata": {},
   "outputs": [
    {
     "name": "stdout",
     "output_type": "stream",
     "text": [
      "step 0: Validation Accuracy of Logistic Regression Classifier is: 0.518\n",
      "step 0: Validation Loss of Logistic Regression Classifier is: 0.694\n",
      "\n",
      "step 1: Validation Accuracy of Logistic Regression Classifier is: 0.500\n",
      "step 1: Validation Loss of Logistic Regression Classifier is: 0.707\n",
      "\n",
      "step 2: Validation Accuracy of Logistic Regression Classifier is: 0.558\n",
      "step 2: Validation Loss of Logistic Regression Classifier is: 0.665\n",
      "\n",
      "step 3: Validation Accuracy of Logistic Regression Classifier is: 0.534\n",
      "step 3: Validation Loss of Logistic Regression Classifier is: 0.683\n",
      "\n",
      "step 4: Validation Accuracy of Logistic Regression Classifier is: 0.552\n",
      "step 4: Validation Loss of Logistic Regression Classifier is: 0.670\n",
      "\n"
     ]
    }
   ],
   "source": [
    "LR = TrainingClassifier(X_train, X_test,  y_train, y_test, \"logistic_regression\")\n",
    "\n",
    "clf2, loss_arr_2, acc_arr_2 = LR.train(5)"
   ]
  },
  {
   "cell_type": "code",
   "execution_count": 75,
   "metadata": {},
   "outputs": [
    {
     "name": "stdout",
     "output_type": "stream",
     "text": [
      "step 1: Test Accuracy of Logistic Regression Classifier is: 0.528\n",
      "Test Metrics\n",
      "================\n",
      "              precision    recall  f1-score   support\n",
      "\n",
      "           0       0.91      0.53      0.67       112\n",
      "           1       0.12      0.54      0.19        13\n",
      "\n",
      "    accuracy                           0.53       125\n",
      "   macro avg       0.51      0.53      0.43       125\n",
      "weighted avg       0.83      0.53      0.62       125\n",
      "\n"
     ]
    },
    {
     "data": {
      "image/png": "[encoded data removed]",
      "text/plain": [
       "<Figure size 432x288 with 2 Axes>"
      ]
     },
     "metadata": {
      "needs_background": "light"
     },
     "output_type": "display_data"
    }
   ],
   "source": [
    "test_acc2, test_loss2, report2, matrix2  = LR.test()"
   ]
  },
  {
   "cell_type": "code",
   "execution_count": 76,
   "metadata": {},
   "outputs": [
    {
     "data": {
      "image/png": "[encoded data removed]",
      "text/plain": [
       "<Figure size 864x504 with 1 Axes>"
      ]
     },
     "metadata": {
      "needs_background": "light"
     },
     "output_type": "display_data"
    },
    {
     "data": {
      "text/html": [
       "<div>\n",
       "<style scoped>\n",
       "    .dataframe tbody tr th:only-of-type {\n",
       "        vertical-align: middle;\n",
       "    }\n",
       "\n",
       "    .dataframe tbody tr th {\n",
       "        vertical-align: top;\n",
       "    }\n",
       "\n",
       "    .dataframe thead th {\n",
       "        text-align: right;\n",
       "    }\n",
       "</style>\n",
       "<table border=\"1\" class=\"dataframe\">\n",
       "  <thead>\n",
       "    <tr style=\"text-align: right;\">\n",
       "      <th></th>\n",
       "      <th>features</th>\n",
       "      <th>p_values</th>\n",
       "    </tr>\n",
       "  </thead>\n",
       "  <tbody>\n",
       "    <tr>\n",
       "      <th>0</th>\n",
       "      <td>experiment</td>\n",
       "      <td>3.422842e-01</td>\n",
       "    </tr>\n",
       "    <tr>\n",
       "      <th>1</th>\n",
       "      <td>hour</td>\n",
       "      <td>3.440592e-02</td>\n",
       "    </tr>\n",
       "    <tr>\n",
       "      <th>2</th>\n",
       "      <td>date</td>\n",
       "      <td>4.482927e-01</td>\n",
       "    </tr>\n",
       "    <tr>\n",
       "      <th>3</th>\n",
       "      <td>device_make</td>\n",
       "      <td>1.236280e-01</td>\n",
       "    </tr>\n",
       "    <tr>\n",
       "      <th>4</th>\n",
       "      <td>platform_os</td>\n",
       "      <td>7.708563e-77</td>\n",
       "    </tr>\n",
       "  </tbody>\n",
       "</table>\n",
       "</div>"
      ],
      "text/plain": [
       "      features      p_values\n",
       "0   experiment  3.422842e-01\n",
       "1         hour  3.440592e-02\n",
       "2         date  4.482927e-01\n",
       "3  device_make  1.236280e-01\n",
       "4  platform_os  7.708563e-77"
      ]
     },
     "execution_count": 76,
     "metadata": {},
     "output_type": "execute_result"
    }
   ],
   "source": [
    "p_values_df = LR.get_p_values()\n",
    "LR.plot_pvalues(p_values_df)\n",
    "p_values_df"
   ]
  },
  {
   "cell_type": "markdown",
   "metadata": {},
   "source": [
    "##### Training with RandomForest"
   ]
  },
  {
   "cell_type": "code",
   "execution_count": 77,
   "metadata": {},
   "outputs": [
    {
     "name": "stdout",
     "output_type": "stream",
     "text": [
      "step 0: Validation Accuracy of Random Forest Classifier is: 0.540\n",
      "step 0: Validation Loss of Random Forest Classifier is: 0.678\n",
      "\n",
      "step 1: Validation Accuracy of Random Forest Classifier is: 0.527\n",
      "step 1: Validation Loss of Random Forest Classifier is: 0.688\n",
      "\n",
      "step 2: Validation Accuracy of Random Forest Classifier is: 0.558\n",
      "step 2: Validation Loss of Random Forest Classifier is: 0.665\n",
      "\n",
      "step 3: Validation Accuracy of Random Forest Classifier is: 0.493\n",
      "step 3: Validation Loss of Random Forest Classifier is: 0.712\n",
      "\n",
      "step 4: Validation Accuracy of Random Forest Classifier is: 0.556\n",
      "step 4: Validation Loss of Random Forest Classifier is: 0.666\n",
      "\n"
     ]
    }
   ],
   "source": [
    "RF = TrainingClassifier(X_train, X_test,  y_train, y_test, \"random_forest\")\n",
    "\n",
    "clf2, loss_arr_2, acc_arr_2 = RF.train(5)"
   ]
  },
  {
   "cell_type": "code",
   "execution_count": 78,
   "metadata": {},
   "outputs": [
    {
     "name": "stdout",
     "output_type": "stream",
     "text": [
      "step 1: Test Accuracy of Random Forest Classifier is: 0.552\n",
      "Test Metrics\n",
      "================\n",
      "              precision    recall  f1-score   support\n",
      "\n",
      "           0       0.72      0.55      0.63        85\n",
      "           1       0.37      0.55      0.44        40\n",
      "\n",
      "    accuracy                           0.55       125\n",
      "   macro avg       0.54      0.55      0.53       125\n",
      "weighted avg       0.61      0.55      0.57       125\n",
      "\n",
      "Loss on test data is: 0.669\n",
      "\n"
     ]
    },
    {
     "data": {
      "image/png": "[encoded data removed]",
      "text/plain": [
       "<Figure size 432x288 with 2 Axes>"
      ]
     },
     "metadata": {
      "needs_background": "light"
     },
     "output_type": "display_data"
    }
   ],
   "source": [
    "test_acc, loss, report, confusion_matrix = RF.test()\n",
    "print(f\"Loss on test data is: {loss:.3f}\")\n",
    "print()"
   ]
  },
  {
   "cell_type": "code",
   "execution_count": 79,
   "metadata": {},
   "outputs": [
    {
     "data": {
      "text/html": [
       "<div>\n",
       "<style scoped>\n",
       "    .dataframe tbody tr th:only-of-type {\n",
       "        vertical-align: middle;\n",
       "    }\n",
       "\n",
       "    .dataframe tbody tr th {\n",
       "        vertical-align: top;\n",
       "    }\n",
       "\n",
       "    .dataframe thead th {\n",
       "        text-align: right;\n",
       "    }\n",
       "</style>\n",
       "<table border=\"1\" class=\"dataframe\">\n",
       "  <thead>\n",
       "    <tr style=\"text-align: right;\">\n",
       "      <th></th>\n",
       "      <th>feature</th>\n",
       "      <th>feature_importances</th>\n",
       "    </tr>\n",
       "  </thead>\n",
       "  <tbody>\n",
       "    <tr>\n",
       "      <th>0</th>\n",
       "      <td>experiment</td>\n",
       "      <td>0.034370</td>\n",
       "    </tr>\n",
       "    <tr>\n",
       "      <th>1</th>\n",
       "      <td>hour</td>\n",
       "      <td>0.431864</td>\n",
       "    </tr>\n",
       "    <tr>\n",
       "      <th>2</th>\n",
       "      <td>date</td>\n",
       "      <td>0.178445</td>\n",
       "    </tr>\n",
       "    <tr>\n",
       "      <th>3</th>\n",
       "      <td>device_make</td>\n",
       "      <td>0.351157</td>\n",
       "    </tr>\n",
       "    <tr>\n",
       "      <th>4</th>\n",
       "      <td>platform_os</td>\n",
       "      <td>0.004163</td>\n",
       "    </tr>\n",
       "  </tbody>\n",
       "</table>\n",
       "</div>"
      ],
      "text/plain": [
       "       feature  feature_importances\n",
       "0   experiment             0.034370\n",
       "1         hour             0.431864\n",
       "2         date             0.178445\n",
       "3  device_make             0.351157\n",
       "4  platform_os             0.004163"
      ]
     },
     "execution_count": 79,
     "metadata": {},
     "output_type": "execute_result"
    }
   ],
   "source": [
    "RF.get_feature_importance()"
   ]
  },
  {
   "cell_type": "markdown",
   "metadata": {},
   "source": [
    "##### Training with XGBoost"
   ]
  },
  {
   "cell_type": "code",
   "execution_count": 80,
   "metadata": {},
   "outputs": [
    {
     "name": "stdout",
     "output_type": "stream",
     "text": [
      "step 0: Validation Accuracy of XGBoost Classifier is: 0.549\n",
      "step 0: Validation Loss of XGBoost Classifier is: 0.671\n",
      "\n",
      "step 1: Validation Accuracy of XGBoost Classifier is: 0.518\n",
      "step 1: Validation Loss of XGBoost Classifier is: 0.694\n",
      "\n",
      "step 2: Validation Accuracy of XGBoost Classifier is: 0.554\n",
      "step 2: Validation Loss of XGBoost Classifier is: 0.668\n",
      "\n",
      "step 3: Validation Accuracy of XGBoost Classifier is: 0.453\n",
      "step 3: Validation Loss of XGBoost Classifier is: 0.740\n",
      "\n",
      "step 4: Validation Accuracy of XGBoost Classifier is: 0.570\n",
      "step 4: Validation Loss of XGBoost Classifier is: 0.656\n",
      "\n"
     ]
    }
   ],
   "source": [
    "XG = TrainingClassifier(X_train, X_test,  y_train, y_test, \"xgboost\")\n",
    "clf, acc_arr, loss_arr = XG.train(5)"
   ]
  },
  {
   "cell_type": "code",
   "execution_count": 81,
   "metadata": {},
   "outputs": [
    {
     "name": "stdout",
     "output_type": "stream",
     "text": [
      "step 1: Test Accuracy of XGBoost Classifier is: 0.552\n",
      "Test Metrics\n",
      "================\n",
      "              precision    recall  f1-score   support\n",
      "\n",
      "           0       0.68      0.56      0.61        79\n",
      "           1       0.42      0.54      0.47        46\n",
      "\n",
      "    accuracy                           0.55       125\n",
      "   macro avg       0.55      0.55      0.54       125\n",
      "weighted avg       0.58      0.55      0.56       125\n",
      "\n",
      "Loss on test data is: 0.669\n",
      "\n"
     ]
    },
    {
     "data": {
      "image/png": "[encoded data removed]",
      "text/plain": [
       "<Figure size 432x288 with 2 Axes>"
      ]
     },
     "metadata": {
      "needs_background": "light"
     },
     "output_type": "display_data"
    }
   ],
   "source": [
    "test_acc, loss, report, confusion_matrix = XG.test()\n",
    "print(f\"Loss on test data is: {loss:.3f}\")\n",
    "print()"
   ]
  },
  {
   "cell_type": "code",
   "execution_count": 82,
   "metadata": {},
   "outputs": [
    {
     "data": {
      "image/png": "[encoded data removed]",
      "text/plain": [
       "<Figure size 864x504 with 1 Axes>"
      ]
     },
     "metadata": {
      "needs_background": "light"
     },
     "output_type": "display_data"
    },
    {
     "data": {
      "text/html": [
       "<div>\n",
       "<style scoped>\n",
       "    .dataframe tbody tr th:only-of-type {\n",
       "        vertical-align: middle;\n",
       "    }\n",
       "\n",
       "    .dataframe tbody tr th {\n",
       "        vertical-align: top;\n",
       "    }\n",
       "\n",
       "    .dataframe thead th {\n",
       "        text-align: right;\n",
       "    }\n",
       "</style>\n",
       "<table border=\"1\" class=\"dataframe\">\n",
       "  <thead>\n",
       "    <tr style=\"text-align: right;\">\n",
       "      <th></th>\n",
       "      <th>features</th>\n",
       "      <th>p_values</th>\n",
       "    </tr>\n",
       "  </thead>\n",
       "  <tbody>\n",
       "    <tr>\n",
       "      <th>0</th>\n",
       "      <td>experiment</td>\n",
       "      <td>3.422842e-01</td>\n",
       "    </tr>\n",
       "    <tr>\n",
       "      <th>1</th>\n",
       "      <td>hour</td>\n",
       "      <td>3.440592e-02</td>\n",
       "    </tr>\n",
       "    <tr>\n",
       "      <th>2</th>\n",
       "      <td>date</td>\n",
       "      <td>4.482927e-01</td>\n",
       "    </tr>\n",
       "    <tr>\n",
       "      <th>3</th>\n",
       "      <td>device_make</td>\n",
       "      <td>1.236280e-01</td>\n",
       "    </tr>\n",
       "    <tr>\n",
       "      <th>4</th>\n",
       "      <td>platform_os</td>\n",
       "      <td>7.708563e-77</td>\n",
       "    </tr>\n",
       "  </tbody>\n",
       "</table>\n",
       "</div>"
      ],
      "text/plain": [
       "      features      p_values\n",
       "0   experiment  3.422842e-01\n",
       "1         hour  3.440592e-02\n",
       "2         date  4.482927e-01\n",
       "3  device_make  1.236280e-01\n",
       "4  platform_os  7.708563e-77"
      ]
     },
     "execution_count": 82,
     "metadata": {},
     "output_type": "execute_result"
    }
   ],
   "source": [
    "XG.plot_pvalues(p_values_df)\n",
    "p_values_df"
   ]
  },
  {
   "cell_type": "markdown",
   "metadata": {},
   "source": [
    "##### Training with Decision Tree"
   ]
  },
  {
   "cell_type": "code",
   "execution_count": 83,
   "metadata": {},
   "outputs": [
    {
     "name": "stdout",
     "output_type": "stream",
     "text": [
      "step 0: Validation Accuracy of Decision Tree Classifier is: 0.554\n",
      "step 0: Validation Loss of Decision Tree Classifier is: 0.668\n",
      "\n",
      "step 1: Validation Accuracy of Decision Tree Classifier is: 0.527\n",
      "step 1: Validation Loss of Decision Tree Classifier is: 0.688\n",
      "\n",
      "step 2: Validation Accuracy of Decision Tree Classifier is: 0.554\n",
      "step 2: Validation Loss of Decision Tree Classifier is: 0.668\n",
      "\n",
      "step 3: Validation Accuracy of Decision Tree Classifier is: 0.502\n",
      "step 3: Validation Loss of Decision Tree Classifier is: 0.706\n",
      "\n",
      "step 4: Validation Accuracy of Decision Tree Classifier is: 0.543\n",
      "step 4: Validation Loss of Decision Tree Classifier is: 0.676\n",
      "\n"
     ]
    }
   ],
   "source": [
    "DT = TrainingClassifier(X_train, X_test,  y_train, y_test, \"decision_tree\")\n",
    "clf, acc_arr, loss_arr = DT.train(5)"
   ]
  },
  {
   "cell_type": "markdown",
   "metadata": {},
   "source": [
    "##### Testing Decision Tree Model"
   ]
  },
  {
   "cell_type": "code",
   "execution_count": 84,
   "metadata": {},
   "outputs": [
    {
     "name": "stdout",
     "output_type": "stream",
     "text": [
      "step 1: Test Accuracy of Decision Tree Classifier is: 0.568\n",
      "Test Metrics\n",
      "================\n",
      "              precision    recall  f1-score   support\n",
      "\n",
      "           0       0.95      0.55      0.70       113\n",
      "           1       0.15      0.75      0.25        12\n",
      "\n",
      "    accuracy                           0.57       125\n",
      "   macro avg       0.55      0.65      0.47       125\n",
      "weighted avg       0.88      0.57      0.65       125\n",
      "\n",
      "Loss on test data is: 0.657\n",
      "\n"
     ]
    },
    {
     "data": {
      "image/png": "[encoded data removed]",
      "text/plain": [
       "<Figure size 432x288 with 2 Axes>"
      ]
     },
     "metadata": {
      "needs_background": "light"
     },
     "output_type": "display_data"
    }
   ],
   "source": [
    "test_acc, loss, report, confusion_matrix = DT.test()\n",
    "print(f\"Loss on test data is: {loss:.3f}\")\n",
    "print()"
   ]
  },
  {
   "cell_type": "markdown",
   "metadata": {},
   "source": [
    "##### Feature Importance"
   ]
  },
  {
   "cell_type": "code",
   "execution_count": 85,
   "metadata": {},
   "outputs": [
    {
     "data": {
      "text/html": [
       "<div>\n",
       "<style scoped>\n",
       "    .dataframe tbody tr th:only-of-type {\n",
       "        vertical-align: middle;\n",
       "    }\n",
       "\n",
       "    .dataframe tbody tr th {\n",
       "        vertical-align: top;\n",
       "    }\n",
       "\n",
       "    .dataframe thead th {\n",
       "        text-align: right;\n",
       "    }\n",
       "</style>\n",
       "<table border=\"1\" class=\"dataframe\">\n",
       "  <thead>\n",
       "    <tr style=\"text-align: right;\">\n",
       "      <th></th>\n",
       "      <th>feature</th>\n",
       "      <th>feature_importances</th>\n",
       "    </tr>\n",
       "  </thead>\n",
       "  <tbody>\n",
       "    <tr>\n",
       "      <th>0</th>\n",
       "      <td>experiment</td>\n",
       "      <td>0.000000</td>\n",
       "    </tr>\n",
       "    <tr>\n",
       "      <th>1</th>\n",
       "      <td>hour</td>\n",
       "      <td>0.453469</td>\n",
       "    </tr>\n",
       "    <tr>\n",
       "      <th>2</th>\n",
       "      <td>date</td>\n",
       "      <td>0.176664</td>\n",
       "    </tr>\n",
       "    <tr>\n",
       "      <th>3</th>\n",
       "      <td>device_make</td>\n",
       "      <td>0.369866</td>\n",
       "    </tr>\n",
       "    <tr>\n",
       "      <th>4</th>\n",
       "      <td>platform_os</td>\n",
       "      <td>0.000000</td>\n",
       "    </tr>\n",
       "  </tbody>\n",
       "</table>\n",
       "</div>"
      ],
      "text/plain": [
       "       feature  feature_importances\n",
       "0   experiment             0.000000\n",
       "1         hour             0.453469\n",
       "2         date             0.176664\n",
       "3  device_make             0.369866\n",
       "4  platform_os             0.000000"
      ]
     },
     "execution_count": 85,
     "metadata": {},
     "output_type": "execute_result"
    }
   ],
   "source": [
    "DT.get_feature_importance()"
   ]
  },
  {
   "cell_type": "markdown",
   "metadata": {},
   "source": [
    "In this Decision Tree model with a max-depth of 5, the experiment feature has the minimum feature importances, which means it contributes very small feature for this model.The device feature on the other hand is the most important feature of this model with 0.3 followed by hour. But we might get a differnt result in feature importance by changing the max-depth."
   ]
  }
 ],
 "metadata": {
  "interpreter": {
   "hash": "0f08ea943be090a14eff5269cda570ac55dcc0e2bd93317a14b7d7e20047a087"
  },
  "kernelspec": {
   "display_name": "Python 3.10.4 64-bit (windows store)",
   "language": "python",
   "name": "python3"
  },
  "language_info": {
   "codemirror_mode": {
    "name": "ipython",
    "version": 3
   },
   "file_extension": ".py",
   "mimetype": "text/x-python",
   "name": "python",
   "nbconvert_exporter": "python",
   "pygments_lexer": "ipython3",
   "version": "3.10.4"
  },
  "orig_nbformat": 4
 },
 "nbformat": 4,
 "nbformat_minor": 2
}
